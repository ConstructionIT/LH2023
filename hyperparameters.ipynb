{
 "cells": [
  {
   "cell_type": "code",
   "execution_count": 1,
   "metadata": {},
   "outputs": [],
   "source": [
    "import numpy as np\n",
    "import pandas as pd\n",
    "import os\n",
    "\n",
    "import torch\n",
    "import torchvision\n",
    "\n",
    "import torch.nn as nn\n",
    "import torch.nn.functional as F\n",
    "\n",
    "import matplotlib.pyplot as plt\n",
    "\n",
    "from torchvision.transforms import ToTensor\n",
    "import torchvision.transforms as tt\n",
    "\n",
    "from torchvision.utils import make_grid\n",
    "from torch.utils.data.dataloader import DataLoader\n",
    "from torchvision.datasets import ImageFolder\n",
    "from torch.utils.data import random_split\n",
    "\n",
    "%matplotlib inline"
   ]
  },
  {
   "cell_type": "code",
   "execution_count": 2,
   "metadata": {},
   "outputs": [
    {
     "data": {
      "text/plain": [
       "'NVIDIA GeForce RTX 3080 Ti'"
      ]
     },
     "execution_count": 2,
     "metadata": {},
     "output_type": "execute_result"
    }
   ],
   "source": [
    "torch.cuda.get_device_name(0)"
   ]
  },
  {
   "cell_type": "code",
   "execution_count": 3,
   "metadata": {},
   "outputs": [],
   "source": [
    "TRAIN_PATH = \"/home/enfycius/Desktop/train_v2/\""
   ]
  },
  {
   "cell_type": "code",
   "execution_count": 4,
   "metadata": {},
   "outputs": [],
   "source": [
    "train = ImageFolder(TRAIN_PATH, transform = tt.Compose([\n",
    "    tt.Resize(256),\n",
    "    tt.ToTensor(),\n",
    "]))\n",
    "\n",
    "train_dl = DataLoader(train, 256, shuffle=True, num_workers=3, pin_memory=True)"
   ]
  },
  {
   "cell_type": "code",
   "execution_count": 5,
   "metadata": {},
   "outputs": [],
   "source": [
    "def get_mean_std(dl):\n",
    "    sum_, squared_sum, batches = 0, 0, 0\n",
    "    \n",
    "    for data, _ in dl:\n",
    "        sum_ += torch.mean(data, dim = ([0, 2, 3]))\n",
    "        squared_sum += torch.mean(data ** 2, dim = ([0, 2, 3]))\n",
    "        batches += 1\n",
    "        \n",
    "    mean = sum_ / batches\n",
    "    std = (squared_sum / batches - mean ** 2) ** 0.5\n",
    "\n",
    "    return mean, std"
   ]
  },
  {
   "cell_type": "code",
   "execution_count": 6,
   "metadata": {},
   "outputs": [],
   "source": [
    "mean, std = get_mean_std(train_dl)"
   ]
  },
  {
   "cell_type": "code",
   "execution_count": 7,
   "metadata": {},
   "outputs": [
    {
     "data": {
      "text/plain": [
       "(tensor([0.0981, 0.0981, 0.0981]), tensor([0.2759, 0.2759, 0.2759]))"
      ]
     },
     "execution_count": 7,
     "metadata": {},
     "output_type": "execute_result"
    }
   ],
   "source": [
    "mean, std"
   ]
  },
  {
   "cell_type": "code",
   "execution_count": 8,
   "metadata": {},
   "outputs": [],
   "source": [
    "stats = ((0.0696, 0.0696, 0.0696), (0.2366, 0.2366, 0.2366))"
   ]
  },
  {
   "cell_type": "code",
   "execution_count": 9,
   "metadata": {},
   "outputs": [],
   "source": [
    "train_transform = tt.Compose([\n",
    "    tt.Resize(256),\n",
    "    tt.RandomHorizontalFlip(),\n",
    "    tt.ToTensor(),\n",
    "    tt.Normalize(*stats, inplace=True)\n",
    "])"
   ]
  },
  {
   "cell_type": "code",
   "execution_count": 10,
   "metadata": {},
   "outputs": [],
   "source": [
    "test_transform = tt.Compose([\n",
    "    tt.Resize(256),\n",
    "    tt.RandomHorizontalFlip(),\n",
    "    tt.ToTensor(),\n",
    "    tt.Normalize(*stats, inplace=True)\n",
    "])"
   ]
  },
  {
   "cell_type": "code",
   "execution_count": 11,
   "metadata": {},
   "outputs": [],
   "source": [
    "train = ImageFolder(TRAIN_PATH, transform = train_transform)\n",
    "test = ImageFolder(TRAIN_PATH, transform = test_transform)"
   ]
  },
  {
   "cell_type": "code",
   "execution_count": 12,
   "metadata": {},
   "outputs": [],
   "source": [
    "random_seed = 42"
   ]
  },
  {
   "cell_type": "code",
   "execution_count": 13,
   "metadata": {},
   "outputs": [
    {
     "data": {
      "text/plain": [
       "<torch._C.Generator at 0x7fdf924bbad0>"
      ]
     },
     "execution_count": 13,
     "metadata": {},
     "output_type": "execute_result"
    }
   ],
   "source": [
    "torch.manual_seed(random_seed)"
   ]
  },
  {
   "cell_type": "code",
   "execution_count": 14,
   "metadata": {},
   "outputs": [],
   "source": [
    "val_size = int(len(train) * 0.2)\n",
    "train_size = len(train) - val_size"
   ]
  },
  {
   "cell_type": "code",
   "execution_count": 15,
   "metadata": {},
   "outputs": [],
   "source": [
    "train_ds, val_ds = random_split(train, [train_size, val_size])"
   ]
  },
  {
   "cell_type": "code",
   "execution_count": 16,
   "metadata": {},
   "outputs": [
    {
     "data": {
      "text/plain": [
       "(89, 22)"
      ]
     },
     "execution_count": 16,
     "metadata": {},
     "output_type": "execute_result"
    }
   ],
   "source": [
    "len(train_ds), len(val_ds)"
   ]
  },
  {
   "cell_type": "code",
   "execution_count": 17,
   "metadata": {},
   "outputs": [],
   "source": [
    "batch_size = 4"
   ]
  },
  {
   "cell_type": "code",
   "execution_count": 18,
   "metadata": {},
   "outputs": [],
   "source": [
    "train_dl = DataLoader(train_ds, batch_size, shuffle=True, num_workers=2, pin_memory=True)\n",
    "valid_dl = DataLoader(val_ds, batch_size * 2, num_workers=2, pin_memory=True)\n",
    "test_dl = DataLoader(test, batch_size * 2, num_workers=2, pin_memory=True)"
   ]
  },
  {
   "cell_type": "code",
   "execution_count": 19,
   "metadata": {},
   "outputs": [],
   "source": [
    "def denormalize(images, means, stds):\n",
    "    means = torch.tensor(means).reshape(1, 3, 1, 1)\n",
    "    stds = torch.tensor(stds).reshape(1, 3, 1, 1)\n",
    "    \n",
    "    return images * stds + means"
   ]
  },
  {
   "cell_type": "code",
   "execution_count": 20,
   "metadata": {},
   "outputs": [],
   "source": [
    "def show_batch(dl):\n",
    "    for images, labels in dl:\n",
    "        fig, ax = plt.subplots(figsize=(25, 25))\n",
    "        ax.set_xticks([]); ax.set_yticks([])\n",
    "        denorm_images = denormalize(images, *stats)\n",
    "        ax.imshow(make_grid(denorm_images[:64], nrow=8).permute(1, 2, 0).clamp(0, 1))\n",
    "\n",
    "        break"
   ]
  },
  {
   "cell_type": "code",
   "execution_count": 21,
   "metadata": {},
   "outputs": [
    {
     "data": {
      "image/png": "[encoded data removed]",
      "text/plain": [
       "<Figure size 2500x2500 with 1 Axes>"
      ]
     },
     "metadata": {},
     "output_type": "display_data"
    }
   ],
   "source": [
    "show_batch(train_dl)"
   ]
  },
  {
   "cell_type": "code",
   "execution_count": 22,
   "metadata": {},
   "outputs": [],
   "source": [
    "def get_default_device():\n",
    "    if torch.cuda.is_available():\n",
    "        return torch.device('cuda')\n",
    "    else:\n",
    "        return torch.device('cpu')"
   ]
  },
  {
   "cell_type": "code",
   "execution_count": 23,
   "metadata": {},
   "outputs": [],
   "source": [
    "def to_device(data, device):\n",
    "    if isinstance(data, (list,tuple)):\n",
    "        return [to_device(x, device) for x in data]\n",
    "    return data.to(device, non_blocking=True)"
   ]
  },
  {
   "cell_type": "code",
   "execution_count": 24,
   "metadata": {},
   "outputs": [],
   "source": [
    "class BoltDataLoader():\n",
    "    def __init__(self, dl, device):\n",
    "        self.dl = dl\n",
    "        self.device = device\n",
    "        \n",
    "    def __iter__(self):\n",
    "        for b in self.dl: \n",
    "            yield to_device(b, self.device)\n",
    "\n",
    "    def __len__(self):\n",
    "        return len(self.dl)"
   ]
  },
  {
   "cell_type": "code",
   "execution_count": 25,
   "metadata": {},
   "outputs": [],
   "source": [
    "def accuracy(outputs, labels):\n",
    "    _, preds = torch.max(outputs, dim=1)\n",
    "    \n",
    "    return torch.tensor(torch.sum(preds == labels).item() / len(preds))"
   ]
  },
  {
   "cell_type": "code",
   "execution_count": 26,
   "metadata": {},
   "outputs": [],
   "source": [
    "class ImageClassification(nn.Module):\n",
    "    def training_step(self, batch):\n",
    "        images, labels = batch \n",
    "        out = self(images)            \n",
    "\n",
    "        loss = F.cross_entropy(out, labels) \n",
    "\n",
    "        return loss\n",
    "    \n",
    "    def validation_step(self, batch):\n",
    "        images, labels = batch \n",
    "        out = self(images)                    \n",
    "\n",
    "        loss = F.cross_entropy(out, labels)   \n",
    "        acc = accuracy(out, labels)           \n",
    "\n",
    "        return {'val_loss': loss.detach(), 'val_acc': acc}\n",
    "        \n",
    "    def validation_epoch_end(self, outputs):\n",
    "        batch_losses = [x['val_loss'] for x in outputs]\n",
    "        epoch_loss = torch.stack(batch_losses).mean()   \n",
    "        \n",
    "        batch_accs = [x['val_acc'] for x in outputs]\n",
    "        epoch_acc = torch.stack(batch_accs).mean()      \n",
    "\n",
    "        return {'val_loss': epoch_loss.item(), 'val_acc': epoch_acc.item()}\n",
    "    \n",
    "    def epoch_end(self, epoch, result):\n",
    "        print(\"Epoch [{}], last_lr: {:.5f}, train_loss: {:.4f}, val_loss: {:.4f}, val_acc: {:.4f}\".format(\n",
    "            epoch, result['lrs'][-1], result['train_loss'], result['val_loss'], result['val_acc']))"
   ]
  },
  {
   "cell_type": "code",
   "execution_count": 27,
   "metadata": {},
   "outputs": [],
   "source": [
    "@torch.no_grad()\n",
    "def evaluate(model, val_loader):\n",
    "    model.eval()\n",
    "    outputs = [model.validation_step(batch) for batch in val_loader]\n",
    "    \n",
    "    return model.validation_epoch_end(outputs)"
   ]
  },
  {
   "cell_type": "code",
   "execution_count": 28,
   "metadata": {},
   "outputs": [],
   "source": [
    "def get_lr(optimizer):\n",
    "    for param_group in optimizer.param_groups:\n",
    "        return param_group['lr']"
   ]
  },
  {
   "cell_type": "code",
   "execution_count": 29,
   "metadata": {},
   "outputs": [],
   "source": [
    "def fit_one_cycle(epochs, max_lr, model, train_loader, val_loader, \n",
    "                  weight_decay=0, grad_clip=None, opt_func=torch.optim.SGD):\n",
    "    torch.cuda.empty_cache()\n",
    "    history = []\n",
    "    \n",
    "    optimizer = opt_func(model.parameters(), max_lr, weight_decay=weight_decay)\n",
    "    sched = torch.optim.lr_scheduler.OneCycleLR(optimizer, max_lr, epochs=epochs, \n",
    "                                                steps_per_epoch=len(train_loader))\n",
    "    \n",
    "    for epoch in range(epochs):\n",
    "        model.train()\n",
    "        train_losses = []\n",
    "        lrs = []\n",
    "        for batch in train_loader:\n",
    "            loss = model.training_step(batch)\n",
    "            train_losses.append(loss)\n",
    "            loss.backward()\n",
    "            \n",
    "            if grad_clip: \n",
    "                nn.utils.clip_grad_value_(model.parameters(), grad_clip)\n",
    "            \n",
    "            optimizer.step()\n",
    "            optimizer.zero_grad()\n",
    "            \n",
    "            lrs.append(get_lr(optimizer))\n",
    "            sched.step()\n",
    "        \n",
    "        result = evaluate(model, val_loader)\n",
    "        result['train_loss'] = torch.stack(train_losses).mean().item()\n",
    "        result['lrs'] = lrs\n",
    "        model.epoch_end(epoch, result)\n",
    "        history.append(result)\n",
    "\n",
    "    return history"
   ]
  },
  {
   "cell_type": "code",
   "execution_count": 30,
   "metadata": {},
   "outputs": [],
   "source": [
    "def plot_losses(history):\n",
    "    train_losses = [x.get('train_loss') for x in history]\n",
    "    val_losses = [x['val_loss'] for x in history]\n",
    "    plt.plot(train_losses, '-bx')\n",
    "    plt.plot(val_losses, '-rx')\n",
    "    plt.xlabel('epoch')\n",
    "    plt.ylabel('loss')\n",
    "    plt.legend(['Training', 'Validation'])\n",
    "    plt.title('Loss vs. No. of epochs')"
   ]
  },
  {
   "cell_type": "code",
   "execution_count": 31,
   "metadata": {},
   "outputs": [],
   "source": [
    "def plot_lrs(history):\n",
    "    lrs = np.concatenate([x.get('lrs', []) for x in history])\n",
    "    plt.plot(lrs)\n",
    "    plt.xlabel('Batch no.')\n",
    "    plt.ylabel('Learning rate')\n",
    "    plt.title('Learning Rate vs. Batch no.')"
   ]
  },
  {
   "cell_type": "code",
   "execution_count": 32,
   "metadata": {},
   "outputs": [],
   "source": [
    "device = get_default_device()"
   ]
  },
  {
   "cell_type": "code",
   "execution_count": 33,
   "metadata": {},
   "outputs": [],
   "source": [
    "train_dl = BoltDataLoader(train_dl, device)\n",
    "valid_dl = BoltDataLoader(valid_dl, device)\n",
    "test_dl = BoltDataLoader(test_dl, device)"
   ]
  },
  {
   "cell_type": "code",
   "execution_count": 34,
   "metadata": {},
   "outputs": [],
   "source": [
    "classnames = train.classes"
   ]
  },
  {
   "cell_type": "code",
   "execution_count": 35,
   "metadata": {},
   "outputs": [
    {
     "data": {
      "text/plain": [
       "['ass', 'not_ass']"
      ]
     },
     "execution_count": 35,
     "metadata": {},
     "output_type": "execute_result"
    }
   ],
   "source": [
    "classnames"
   ]
  },
  {
   "cell_type": "code",
   "execution_count": 36,
   "metadata": {},
   "outputs": [],
   "source": [
    "num_of_classes = len(train.classes)"
   ]
  },
  {
   "cell_type": "code",
   "execution_count": 37,
   "metadata": {},
   "outputs": [
    {
     "data": {
      "text/plain": [
       "2"
      ]
     },
     "execution_count": 37,
     "metadata": {},
     "output_type": "execute_result"
    }
   ],
   "source": [
    "num_of_classes"
   ]
  },
  {
   "cell_type": "code",
   "execution_count": 38,
   "metadata": {},
   "outputs": [],
   "source": [
    "class Convnet(ImageClassification):\n",
    "    def __init__(self, dropout=0.5):\n",
    "        super(Convnet, self).__init__()\n",
    "\n",
    "        self.convnet = nn.Sequential(\n",
    "          nn.Conv2d(in_channels=3, out_channels=64, kernel_size=3, padding=1),  # (num_batch, 64, 248, 248)\n",
    "          nn.BatchNorm2d(64),\n",
    "          nn.ReLU(),\n",
    "          nn.MaxPool2d(kernel_size=2),  # (num_batch, 64, 124, 124)\n",
    "\n",
    "          nn.Conv2d(in_channels=64, out_channels=128, kernel_size=3, padding=1), # (num_batch, 128, 122, 122)\n",
    "          nn.BatchNorm2d(128),\n",
    "          nn.ReLU(),\n",
    "          nn.MaxPool2d(kernel_size=2),  # (num_batch, 128, 61, 61)\n",
    "\n",
    "          nn.Conv2d(in_channels=128, out_channels=256, kernel_size=3, padding=1), # (num_batch, 256, 59, 59)\n",
    "          nn.BatchNorm2d(256),\n",
    "          nn.ReLU(),\n",
    "          nn.MaxPool2d(kernel_size=2),  # (num_batch, 256, 29, 29)\n",
    "\n",
    "          nn.Conv2d(in_channels=256, out_channels=512, kernel_size=3, padding=1), # (num_batch, 128, 27, 27)\n",
    "          nn.BatchNorm2d(512),\n",
    "          nn.ReLU(),\n",
    "          nn.MaxPool2d(kernel_size=2),  # (num_batch, 128, 13, 13)\n",
    "\n",
    "          nn.Conv2d(in_channels=512, out_channels=512, kernel_size=3, padding=1), # (num_batch, 64, 11, 11)\n",
    "          nn.BatchNorm2d(512),\n",
    "          nn.ReLU(),\n",
    "          nn.MaxPool2d(kernel_size=2),  # (num_batch, 64, 5, 5)\n",
    "          nn.Flatten() # (num_batch, 1600)\n",
    "        )\n",
    "\n",
    "        self.classifier = nn.Sequential(\n",
    "            nn.Dropout(dropout), \n",
    "            nn.Linear(in_features=253952, out_features=1024),\n",
    "            nn.ReLU(),\n",
    "            nn.Dropout(dropout),\n",
    "            nn.Linear(in_features=1024, out_features=512),\n",
    "            nn.ReLU(),\n",
    "            nn.Linear(in_features=512, out_features=256),\n",
    "            nn.ReLU(),\n",
    "            nn.Linear(in_features=256, out_features=128),\n",
    "            nn.ReLU(),\n",
    "            nn.Linear(in_features=128, out_features=2),\n",
    "        )\n",
    "        \n",
    "    def forward(self, x):\n",
    "        x = self.convnet(x)\n",
    "        x = self.classifier(x)\n",
    "        return x"
   ]
  },
  {
   "cell_type": "markdown",
   "metadata": {},
   "source": [
    "# ConvNet"
   ]
  },
  {
   "cell_type": "code",
   "execution_count": 39,
   "metadata": {},
   "outputs": [],
   "source": [
    "model_v2 = to_device(Convnet(0.45), device)"
   ]
  },
  {
   "cell_type": "code",
   "execution_count": 40,
   "metadata": {},
   "outputs": [
    {
     "data": {
      "text/plain": [
       "Convnet(\n",
       "  (convnet): Sequential(\n",
       "    (0): Conv2d(3, 64, kernel_size=(3, 3), stride=(1, 1), padding=(1, 1))\n",
       "    (1): BatchNorm2d(64, eps=1e-05, momentum=0.1, affine=True, track_running_stats=True)\n",
       "    (2): ReLU()\n",
       "    (3): MaxPool2d(kernel_size=2, stride=2, padding=0, dilation=1, ceil_mode=False)\n",
       "    (4): Conv2d(64, 128, kernel_size=(3, 3), stride=(1, 1), padding=(1, 1))\n",
       "    (5): BatchNorm2d(128, eps=1e-05, momentum=0.1, affine=True, track_running_stats=True)\n",
       "    (6): ReLU()\n",
       "    (7): MaxPool2d(kernel_size=2, stride=2, padding=0, dilation=1, ceil_mode=False)\n",
       "    (8): Conv2d(128, 256, kernel_size=(3, 3), stride=(1, 1), padding=(1, 1))\n",
       "    (9): BatchNorm2d(256, eps=1e-05, momentum=0.1, affine=True, track_running_stats=True)\n",
       "    (10): ReLU()\n",
       "    (11): MaxPool2d(kernel_size=2, stride=2, padding=0, dilation=1, ceil_mode=False)\n",
       "    (12): Conv2d(256, 512, kernel_size=(3, 3), stride=(1, 1), padding=(1, 1))\n",
       "    (13): BatchNorm2d(512, eps=1e-05, momentum=0.1, affine=True, track_running_stats=True)\n",
       "    (14): ReLU()\n",
       "    (15): MaxPool2d(kernel_size=2, stride=2, padding=0, dilation=1, ceil_mode=False)\n",
       "    (16): Conv2d(512, 512, kernel_size=(3, 3), stride=(1, 1), padding=(1, 1))\n",
       "    (17): BatchNorm2d(512, eps=1e-05, momentum=0.1, affine=True, track_running_stats=True)\n",
       "    (18): ReLU()\n",
       "    (19): MaxPool2d(kernel_size=2, stride=2, padding=0, dilation=1, ceil_mode=False)\n",
       "    (20): Flatten(start_dim=1, end_dim=-1)\n",
       "  )\n",
       "  (classifier): Sequential(\n",
       "    (0): Dropout(p=0.45, inplace=False)\n",
       "    (1): Linear(in_features=253952, out_features=1024, bias=True)\n",
       "    (2): ReLU()\n",
       "    (3): Dropout(p=0.45, inplace=False)\n",
       "    (4): Linear(in_features=1024, out_features=512, bias=True)\n",
       "    (5): ReLU()\n",
       "    (6): Linear(in_features=512, out_features=256, bias=True)\n",
       "    (7): ReLU()\n",
       "    (8): Linear(in_features=256, out_features=128, bias=True)\n",
       "    (9): ReLU()\n",
       "    (10): Linear(in_features=128, out_features=2, bias=True)\n",
       "  )\n",
       ")"
      ]
     },
     "execution_count": 40,
     "metadata": {},
     "output_type": "execute_result"
    }
   ],
   "source": [
    "model_v2"
   ]
  },
  {
   "cell_type": "code",
   "execution_count": 41,
   "metadata": {},
   "outputs": [
    {
     "name": "stdout",
     "output_type": "stream",
     "text": [
      "Requirement already satisfied: torchsummary in ./anaconda3/envs/snowdeer_env/lib/python3.8/site-packages (1.5.1)\n"
     ]
    }
   ],
   "source": [
    "!pip3 install torchsummary"
   ]
  },
  {
   "cell_type": "code",
   "execution_count": 42,
   "metadata": {},
   "outputs": [
    {
     "name": "stdout",
     "output_type": "stream",
     "text": [
      "----------------------------------------------------------------\n",
      "        Layer (type)               Output Shape         Param #\n",
      "================================================================\n",
      "            Conv2d-1        [-1, 64, 256, 2011]           1,792\n",
      "       BatchNorm2d-2        [-1, 64, 256, 2011]             128\n",
      "              ReLU-3        [-1, 64, 256, 2011]               0\n",
      "         MaxPool2d-4        [-1, 64, 128, 1005]               0\n",
      "            Conv2d-5       [-1, 128, 128, 1005]          73,856\n",
      "       BatchNorm2d-6       [-1, 128, 128, 1005]             256\n",
      "              ReLU-7       [-1, 128, 128, 1005]               0\n",
      "         MaxPool2d-8         [-1, 128, 64, 502]               0\n",
      "            Conv2d-9         [-1, 256, 64, 502]         295,168\n",
      "      BatchNorm2d-10         [-1, 256, 64, 502]             512\n",
      "             ReLU-11         [-1, 256, 64, 502]               0\n",
      "        MaxPool2d-12         [-1, 256, 32, 251]               0\n",
      "           Conv2d-13         [-1, 512, 32, 251]       1,180,160\n",
      "      BatchNorm2d-14         [-1, 512, 32, 251]           1,024\n",
      "             ReLU-15         [-1, 512, 32, 251]               0\n",
      "        MaxPool2d-16         [-1, 512, 16, 125]               0\n",
      "           Conv2d-17         [-1, 512, 16, 125]       2,359,808\n",
      "      BatchNorm2d-18         [-1, 512, 16, 125]           1,024\n",
      "             ReLU-19         [-1, 512, 16, 125]               0\n",
      "        MaxPool2d-20           [-1, 512, 8, 62]               0\n",
      "          Flatten-21               [-1, 253952]               0\n",
      "          Dropout-22               [-1, 253952]               0\n",
      "           Linear-23                 [-1, 1024]     260,047,872\n",
      "             ReLU-24                 [-1, 1024]               0\n",
      "          Dropout-25                 [-1, 1024]               0\n",
      "           Linear-26                  [-1, 512]         524,800\n",
      "             ReLU-27                  [-1, 512]               0\n",
      "           Linear-28                  [-1, 256]         131,328\n",
      "             ReLU-29                  [-1, 256]               0\n",
      "           Linear-30                  [-1, 128]          32,896\n",
      "             ReLU-31                  [-1, 128]               0\n",
      "           Linear-32                    [-1, 2]             258\n",
      "================================================================\n",
      "Total params: 264,650,882\n",
      "Trainable params: 264,650,882\n",
      "Non-trainable params: 0\n",
      "----------------------------------------------------------------\n",
      "Input size (MB): 5.89\n",
      "Forward/backward pass size (MB): 1560.35\n",
      "Params size (MB): 1009.56\n",
      "Estimated Total Size (MB): 2575.80\n",
      "----------------------------------------------------------------\n"
     ]
    }
   ],
   "source": [
    "import torchsummary\n",
    "\n",
    "torchsummary.summary(model_v2, (3, 256, 2011))"
   ]
  },
  {
   "cell_type": "code",
   "execution_count": 43,
   "metadata": {},
   "outputs": [],
   "source": [
    "epochs = 50\n",
    "max_lr = 1e-5\n",
    "grad_clip = 1e-2\n",
    "weight_decay = 1e-5\n",
    "opt_func = torch.optim.Adam"
   ]
  },
  {
   "cell_type": "code",
   "execution_count": 44,
   "metadata": {},
   "outputs": [],
   "source": [
    "history_v2 = [evaluate(model_v2, valid_dl)]"
   ]
  },
  {
   "cell_type": "code",
   "execution_count": 45,
   "metadata": {},
   "outputs": [
    {
     "data": {
      "text/plain": [
       "[{'val_loss': 0.6891864538192749, 'val_acc': 0.7638888955116272}]"
      ]
     },
     "execution_count": 45,
     "metadata": {},
     "output_type": "execute_result"
    }
   ],
   "source": [
    "history_v2"
   ]
  },
  {
   "cell_type": "code",
   "execution_count": 46,
   "metadata": {},
   "outputs": [
    {
     "name": "stdout",
     "output_type": "stream",
     "text": [
      "Epoch [0], last_lr: 0.00000, train_loss: 0.6833, val_loss: 0.6793, val_acc: 0.7639\n",
      "Epoch [1], last_lr: 0.00000, train_loss: 0.6582, val_loss: 0.6369, val_acc: 0.7639\n",
      "Epoch [2], last_lr: 0.00000, train_loss: 0.6145, val_loss: 0.5653, val_acc: 0.7639\n",
      "Epoch [3], last_lr: 0.00000, train_loss: 0.5752, val_loss: 0.5257, val_acc: 0.7639\n",
      "Epoch [4], last_lr: 0.00000, train_loss: 0.5600, val_loss: 0.5056, val_acc: 0.7639\n",
      "Epoch [5], last_lr: 0.00000, train_loss: 0.5257, val_loss: 0.4796, val_acc: 0.7639\n",
      "Epoch [6], last_lr: 0.00000, train_loss: 0.5098, val_loss: 0.4462, val_acc: 0.7639\n",
      "Epoch [7], last_lr: 0.00001, train_loss: 0.5136, val_loss: 0.4000, val_acc: 0.7639\n",
      "Epoch [8], last_lr: 0.00001, train_loss: 0.5226, val_loss: 0.3631, val_acc: 0.7639\n",
      "Epoch [9], last_lr: 0.00001, train_loss: 0.4640, val_loss: 0.3742, val_acc: 0.8750\n",
      "Epoch [10], last_lr: 0.00001, train_loss: 0.4337, val_loss: 0.3609, val_acc: 0.7639\n",
      "Epoch [11], last_lr: 0.00001, train_loss: 0.4485, val_loss: 0.3005, val_acc: 0.8611\n",
      "Epoch [12], last_lr: 0.00001, train_loss: 0.4290, val_loss: 0.3397, val_acc: 0.7639\n",
      "Epoch [13], last_lr: 0.00001, train_loss: 0.4182, val_loss: 0.3574, val_acc: 0.8333\n",
      "Epoch [14], last_lr: 0.00001, train_loss: 0.4395, val_loss: 0.2674, val_acc: 0.8750\n",
      "Epoch [15], last_lr: 0.00001, train_loss: 0.4303, val_loss: 0.2942, val_acc: 0.8611\n",
      "Epoch [16], last_lr: 0.00001, train_loss: 0.4437, val_loss: 0.2953, val_acc: 0.8056\n",
      "Epoch [17], last_lr: 0.00001, train_loss: 0.4527, val_loss: 0.3271, val_acc: 0.8333\n",
      "Epoch [18], last_lr: 0.00001, train_loss: 0.4407, val_loss: 0.2752, val_acc: 0.8750\n",
      "Epoch [19], last_lr: 0.00001, train_loss: 0.4172, val_loss: 0.2600, val_acc: 0.9167\n",
      "Epoch [20], last_lr: 0.00001, train_loss: 0.3896, val_loss: 0.2769, val_acc: 0.8750\n",
      "Epoch [21], last_lr: 0.00001, train_loss: 0.4299, val_loss: 0.2627, val_acc: 0.9028\n",
      "Epoch [22], last_lr: 0.00001, train_loss: 0.4095, val_loss: 0.2519, val_acc: 0.9583\n",
      "Epoch [23], last_lr: 0.00001, train_loss: 0.3191, val_loss: 0.2552, val_acc: 0.8472\n",
      "Epoch [24], last_lr: 0.00001, train_loss: 0.3512, val_loss: 0.2870, val_acc: 0.8750\n",
      "Epoch [25], last_lr: 0.00001, train_loss: 0.3983, val_loss: 0.2838, val_acc: 0.8333\n",
      "Epoch [26], last_lr: 0.00001, train_loss: 0.3058, val_loss: 0.4001, val_acc: 0.7639\n",
      "Epoch [27], last_lr: 0.00001, train_loss: 0.3862, val_loss: 0.2294, val_acc: 0.9583\n",
      "Epoch [28], last_lr: 0.00001, train_loss: 0.3809, val_loss: 0.2302, val_acc: 0.9583\n",
      "Epoch [29], last_lr: 0.00001, train_loss: 0.3034, val_loss: 0.2217, val_acc: 0.9167\n",
      "Epoch [30], last_lr: 0.00001, train_loss: 0.2793, val_loss: 0.2193, val_acc: 0.9167\n",
      "Epoch [31], last_lr: 0.00001, train_loss: 0.2971, val_loss: 0.1844, val_acc: 0.9583\n",
      "Epoch [32], last_lr: 0.00000, train_loss: 0.3204, val_loss: 0.2151, val_acc: 0.9028\n",
      "Epoch [33], last_lr: 0.00000, train_loss: 0.2772, val_loss: 0.2013, val_acc: 0.9028\n",
      "Epoch [34], last_lr: 0.00000, train_loss: 0.2721, val_loss: 0.1918, val_acc: 0.9028\n",
      "Epoch [35], last_lr: 0.00000, train_loss: 0.2126, val_loss: 0.1800, val_acc: 0.9167\n",
      "Epoch [36], last_lr: 0.00000, train_loss: 0.1900, val_loss: 0.1827, val_acc: 0.9583\n",
      "Epoch [37], last_lr: 0.00000, train_loss: 0.1868, val_loss: 0.1744, val_acc: 0.9167\n",
      "Epoch [38], last_lr: 0.00000, train_loss: 0.2148, val_loss: 0.1673, val_acc: 0.9583\n",
      "Epoch [39], last_lr: 0.00000, train_loss: 0.1845, val_loss: 0.1655, val_acc: 0.9167\n",
      "Epoch [40], last_lr: 0.00000, train_loss: 0.1740, val_loss: 0.1685, val_acc: 0.9583\n",
      "Epoch [41], last_lr: 0.00000, train_loss: 0.1782, val_loss: 0.1790, val_acc: 0.9583\n",
      "Epoch [42], last_lr: 0.00000, train_loss: 0.1555, val_loss: 0.1611, val_acc: 0.9583\n",
      "Epoch [43], last_lr: 0.00000, train_loss: 0.1580, val_loss: 0.1631, val_acc: 0.9583\n",
      "Epoch [44], last_lr: 0.00000, train_loss: 0.1656, val_loss: 0.1588, val_acc: 0.9583\n",
      "Epoch [45], last_lr: 0.00000, train_loss: 0.1635, val_loss: 0.1598, val_acc: 0.9583\n",
      "Epoch [46], last_lr: 0.00000, train_loss: 0.1319, val_loss: 0.1638, val_acc: 0.9583\n",
      "Epoch [47], last_lr: 0.00000, train_loss: 0.1517, val_loss: 0.1634, val_acc: 0.9583\n",
      "Epoch [48], last_lr: 0.00000, train_loss: 0.1725, val_loss: 0.1558, val_acc: 0.9583\n",
      "Epoch [49], last_lr: 0.00000, train_loss: 0.1604, val_loss: 0.1634, val_acc: 0.9583\n",
      "CPU times: user 56 s, sys: 1min 2s, total: 1min 58s\n",
      "Wall time: 2min 12s\n"
     ]
    }
   ],
   "source": [
    "%%time\n",
    "history_v2 += fit_one_cycle(epochs, max_lr, model_v2, train_dl, valid_dl, \n",
    "                             grad_clip=grad_clip, \n",
    "                             weight_decay=weight_decay, \n",
    "                             opt_func=opt_func)"
   ]
  },
  {
   "cell_type": "code",
   "execution_count": 47,
   "metadata": {},
   "outputs": [
    {
     "data": {
      "image/png": "[encoded data removed]",
      "text/plain": [
       "<Figure size 640x480 with 1 Axes>"
      ]
     },
     "metadata": {},
     "output_type": "display_data"
    }
   ],
   "source": [
    "plot_losses(history_v2)"
   ]
  },
  {
   "cell_type": "code",
   "execution_count": 48,
   "metadata": {},
   "outputs": [
    {
     "data": {
      "image/png": "[encoded data removed]",
      "text/plain": [
       "<Figure size 640x480 with 1 Axes>"
      ]
     },
     "metadata": {},
     "output_type": "display_data"
    }
   ],
   "source": [
    "plot_lrs(history_v2)"
   ]
  },
  {
   "cell_type": "code",
   "execution_count": 49,
   "metadata": {},
   "outputs": [
    {
     "ename": "NameError",
     "evalue": "name 'test_loader' is not defined",
     "output_type": "error",
     "traceback": [
      "\u001b[0;31m---------------------------------------------------------------------------\u001b[0m",
      "\u001b[0;31mNameError\u001b[0m                                 Traceback (most recent call last)",
      "Cell \u001b[0;32mIn[49], line 1\u001b[0m\n\u001b[0;32m----> 1\u001b[0m result_v2 \u001b[39m=\u001b[39m evaluate(model_v2, test_loader)\n",
      "\u001b[0;31mNameError\u001b[0m: name 'test_loader' is not defined"
     ]
    }
   ],
   "source": [
    "result_v2 = evaluate(model_v2, test_loader)"
   ]
  },
  {
   "cell_type": "code",
   "execution_count": null,
   "metadata": {},
   "outputs": [],
   "source": [
    "result_v2"
   ]
  },
  {
   "cell_type": "code",
   "execution_count": null,
   "metadata": {},
   "outputs": [],
   "source": [
    "def predict(model, images):\n",
    "    with torch.no_grad():\n",
    "        model.eval()\n",
    "\n",
    "        outputs = model(images)\n",
    "        _, predicted = torch.max(outputs, 1)\n",
    "    \n",
    "        return [classnames[predicted[0].cpu().data.numpy()], images]    "
   ]
  },
  {
   "cell_type": "code",
   "execution_count": null,
   "metadata": {},
   "outputs": [],
   "source": [
    "import cv2"
   ]
  },
  {
   "cell_type": "code",
   "execution_count": null,
   "metadata": {},
   "outputs": [],
   "source": [
    "SAVE_PATH = \"/home/enfycius/Desktop/train_report_v2/\""
   ]
  },
  {
   "cell_type": "code",
   "execution_count": null,
   "metadata": {},
   "outputs": [],
   "source": [
    "iterator = iter(test_dl)"
   ]
  },
  {
   "cell_type": "code",
   "execution_count": null,
   "metadata": {},
   "outputs": [],
   "source": [
    "images, labels = next(iterator)"
   ]
  },
  {
   "cell_type": "code",
   "execution_count": null,
   "metadata": {},
   "outputs": [],
   "source": [
    "out, images = predict(model_v2, images)"
   ]
  },
  {
   "cell_type": "code",
   "execution_count": null,
   "metadata": {},
   "outputs": [],
   "source": [
    "plt.title(\"Label: \" + classnames[labels[0].cpu().data.numpy()] + \", Predicted: \" + out)\n",
    "plt.imshow(images[0].permute(1, 2, 0).cpu().data.numpy())\n",
    "plt.show()"
   ]
  },
  {
   "cell_type": "code",
   "execution_count": null,
   "metadata": {},
   "outputs": [],
   "source": [
    "for index, batch in enumerate(test_loader):\n",
    "    images, labels = batch\n",
    "\n",
    "    print(images.shape)\n",
    "\n",
    "    # cv2.imwrite(SAVE_PATH + str(index) + \".png\", images[0].permute(1, 2, 0).cpu().data.numpy())\n",
    "\n",
    "    out, images = predict(model_v2, images)\n",
    "\n",
    "    plt.title(\"Label: \" + classnames[labels[0].cpu().data.numpy()] + \", Predicted: \" + out)\n",
    "    plt.imshow(images[0].permute(1, 2, 0).cpu().data.numpy())\n",
    "    plt.show()"
   ]
  },
  {
   "cell_type": "code",
   "execution_count": null,
   "metadata": {},
   "outputs": [],
   "source": [
    "del model_v2"
   ]
  },
  {
   "cell_type": "code",
   "execution_count": null,
   "metadata": {},
   "outputs": [],
   "source": []
  }
 ],
 "metadata": {
  "kernelspec": {
   "display_name": "[HEXK",
   "language": "python",
   "name": "snowdeer_env"
  },
  "language_info": {
   "codemirror_mode": {
    "name": "ipython",
    "version": 3
   },
   "file_extension": ".py",
   "mimetype": "text/x-python",
   "name": "python",
   "nbconvert_exporter": "python",
   "pygments_lexer": "ipython3",
   "version": "3.8.17"
  },
  "orig_nbformat": 4
 },
 "nbformat": 4,
 "nbformat_minor": 2
}
