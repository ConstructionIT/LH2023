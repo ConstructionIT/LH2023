{
 "cells": [
  {
   "cell_type": "code",
   "execution_count": 35,
   "metadata": {},
   "outputs": [],
   "source": [
    "import cv2\n",
    "import numpy as np"
   ]
  },
  {
   "cell_type": "code",
   "execution_count": 36,
   "metadata": {},
   "outputs": [],
   "source": [
    "one_row_height = 32\n",
    "row_space = [135, 135, 65]\n",
    "column_space = [40, 115, 266, 135, 340, 135, 340, 135, 266, 115, 40]\n",
    "number_of_bolts = [2, 5, 11, 5, 2]"
   ]
  },
  {
   "cell_type": "code",
   "execution_count": 37,
   "metadata": {},
   "outputs": [],
   "source": [
    "row_coordinates = []"
   ]
  },
  {
   "cell_type": "code",
   "execution_count": 38,
   "metadata": {},
   "outputs": [],
   "source": [
    "radius = 32"
   ]
  },
  {
   "cell_type": "code",
   "execution_count": 39,
   "metadata": {},
   "outputs": [],
   "source": [
    "countY = radius"
   ]
  },
  {
   "cell_type": "markdown",
   "metadata": {},
   "source": [
    "# 정상부 데이터셋 생성"
   ]
  },
  {
   "cell_type": "code",
   "execution_count": 40,
   "metadata": {},
   "outputs": [],
   "source": [
    "for i in range(3):\n",
    "    one_row_coordinates = []\n",
    "    countX = 0\n",
    "    count_index = 0\n",
    "\n",
    "    for nb in number_of_bolts:\n",
    "        countX = countX + column_space[count_index]\n",
    "        countX = countX + radius\n",
    "\n",
    "        one_row_coordinates.append([countX, countY])\n",
    "\n",
    "        countX = countX + radius\n",
    "\n",
    "        count_index = count_index + 1\n",
    "\n",
    "        for index, n in enumerate(range(nb - 1)):\n",
    "            countX = countX + column_space[count_index]\n",
    "            countX = countX + radius\n",
    "\n",
    "            one_row_coordinates.append([countX, countY])\n",
    "\n",
    "            countX = countX + radius\n",
    "\n",
    "        count_index = count_index + 1\n",
    "\n",
    "    row_coordinates.append(one_row_coordinates)\n",
    "    countY = countY + (radius * 2) + row_space[i]"
   ]
  },
  {
   "cell_type": "code",
   "execution_count": 41,
   "metadata": {},
   "outputs": [
    {
     "data": {
      "text/plain": [
       "[[[72, 32],\n",
       "  [251, 32],\n",
       "  [581, 32],\n",
       "  [780, 32],\n",
       "  [979, 32],\n",
       "  [1178, 32],\n",
       "  [1377, 32],\n",
       "  [1781, 32],\n",
       "  [1980, 32],\n",
       "  [2179, 32],\n",
       "  [2378, 32],\n",
       "  [2577, 32],\n",
       "  [2776, 32],\n",
       "  [2975, 32],\n",
       "  [3174, 32],\n",
       "  [3373, 32],\n",
       "  [3572, 32],\n",
       "  [3771, 32],\n",
       "  [4175, 32],\n",
       "  [4374, 32],\n",
       "  [4573, 32],\n",
       "  [4772, 32],\n",
       "  [4971, 32],\n",
       "  [5301, 32],\n",
       "  [5480, 32]],\n",
       " [[72, 231],\n",
       "  [251, 231],\n",
       "  [581, 231],\n",
       "  [780, 231],\n",
       "  [979, 231],\n",
       "  [1178, 231],\n",
       "  [1377, 231],\n",
       "  [1781, 231],\n",
       "  [1980, 231],\n",
       "  [2179, 231],\n",
       "  [2378, 231],\n",
       "  [2577, 231],\n",
       "  [2776, 231],\n",
       "  [2975, 231],\n",
       "  [3174, 231],\n",
       "  [3373, 231],\n",
       "  [3572, 231],\n",
       "  [3771, 231],\n",
       "  [4175, 231],\n",
       "  [4374, 231],\n",
       "  [4573, 231],\n",
       "  [4772, 231],\n",
       "  [4971, 231],\n",
       "  [5301, 231],\n",
       "  [5480, 231]],\n",
       " [[72, 430],\n",
       "  [251, 430],\n",
       "  [581, 430],\n",
       "  [780, 430],\n",
       "  [979, 430],\n",
       "  [1178, 430],\n",
       "  [1377, 430],\n",
       "  [1781, 430],\n",
       "  [1980, 430],\n",
       "  [2179, 430],\n",
       "  [2378, 430],\n",
       "  [2577, 430],\n",
       "  [2776, 430],\n",
       "  [2975, 430],\n",
       "  [3174, 430],\n",
       "  [3373, 430],\n",
       "  [3572, 430],\n",
       "  [3771, 430],\n",
       "  [4175, 430],\n",
       "  [4374, 430],\n",
       "  [4573, 430],\n",
       "  [4772, 430],\n",
       "  [4971, 430],\n",
       "  [5301, 430],\n",
       "  [5480, 430]]]"
      ]
     },
     "execution_count": 41,
     "metadata": {},
     "output_type": "execute_result"
    }
   ],
   "source": [
    "row_coordinates "
   ]
  },
  {
   "cell_type": "code",
   "execution_count": 45,
   "metadata": {},
   "outputs": [
    {
     "name": "stdout",
     "output_type": "stream",
     "text": [
      "[[72, 32], [251, 32], [581, 32], [780, 32], [979, 32], [1178, 32], [1377, 32], [1781, 32], [1980, 32], [2179, 32], [2378, 32], [2577, 32], [2776, 32], [2975, 32], [3174, 32], [3373, 32], [3572, 32], [3771, 32], [4175, 32], [4374, 32], [4573, 32], [4772, 32], [4971, 32], [5301, 32], [5480, 32]]\n",
      "[[72, 231], [251, 231], [581, 231], [780, 231], [979, 231], [1178, 231], [1377, 231], [1781, 231], [1980, 231], [2179, 231], [2378, 231], [2577, 231], [2776, 231], [2975, 231], [3174, 231], [3373, 231], [3572, 231], [3771, 231], [4175, 231], [4374, 231], [4573, 231], [4772, 231], [4971, 231], [5301, 231], [5480, 231]]\n",
      "[[72, 430], [251, 430], [581, 430], [780, 430], [979, 430], [1178, 430], [1377, 430], [1781, 430], [1980, 430], [2179, 430], [2378, 430], [2577, 430], [2776, 430], [2975, 430], [3174, 430], [3373, 430], [3572, 430], [3771, 430], [4175, 430], [4374, 430], [4573, 430], [4772, 430], [4971, 430], [5301, 430], [5480, 430]]\n"
     ]
    }
   ],
   "source": [
    "for i in range(len(row_coordinates)):\n",
    "    print(row_coordinates[i])"
   ]
  }
 ],
 "metadata": {
  "kernelspec": {
   "display_name": "ENFYCIUS",
   "language": "python",
   "name": "enfycius"
  },
  "language_info": {
   "codemirror_mode": {
    "name": "ipython",
    "version": 3
   },
   "file_extension": ".py",
   "mimetype": "text/x-python",
   "name": "python",
   "nbconvert_exporter": "python",
   "pygments_lexer": "ipython3",
   "version": "3.8.17"
  },
  "orig_nbformat": 4
 },
 "nbformat": 4,
 "nbformat_minor": 2
}
