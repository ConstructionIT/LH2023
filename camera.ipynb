{
 "cells": [
  {
   "cell_type": "code",
   "execution_count": 1,
   "metadata": {},
   "outputs": [],
   "source": [
    "import random\n",
    "import string"
   ]
  },
  {
   "cell_type": "code",
   "execution_count": 2,
   "metadata": {},
   "outputs": [],
   "source": [
    "def get_random_string(len):\n",
    "    letters = string.ascii_lowercase\n",
    "    result = ''.join(random.choice(letters) for i in range(len))\n",
    "\n",
    "    return result"
   ]
  },
  {
   "cell_type": "code",
   "execution_count": 3,
   "metadata": {},
   "outputs": [],
   "source": [
    "from pypylon import pylon\n",
    "import platform"
   ]
  },
  {
   "cell_type": "code",
   "execution_count": 4,
   "metadata": {},
   "outputs": [],
   "source": [
    "num_img_to_save = 1\n",
    "img = pylon.PylonImage()\n",
    "tlf = pylon.TlFactory.GetInstance()"
   ]
  },
  {
   "cell_type": "code",
   "execution_count": 7,
   "metadata": {},
   "outputs": [],
   "source": [
    "cam = pylon.InstantCamera(tlf.CreateFirstDevice())\n",
    "cam.Open()\n",
    "cam.StartGrabbing()"
   ]
  },
  {
   "cell_type": "code",
   "execution_count": 10,
   "metadata": {},
   "outputs": [],
   "source": [
    "for i in range(num_img_to_save):\n",
    "    with cam.RetrieveResult(2000) as result:\n",
    "        img.AttachGrabResultBuffer(result)\n",
    "\n",
    "        if platform.system() == \"Windows\":\n",
    "            ipo = pylon.ImagePersistenceOptions()\n",
    "            quality = 90 - i * 10\n",
    "            ipo.SetQuality(quality)\n",
    "\n",
    "            filename = \"saved_pypylon_img_%s.jpeg\" % get_random_string(4)\n",
    "            img.Save(pylon.ImageFileFormat_Jpeg, \"./models/\" + filename, ipo)\n",
    "        else:\n",
    "            filename = \"saved_pypylon_img_%s.jpeg\" % get_random_string(4)\n",
    "            img.Save(pylon.ImageFileFormat_Png, \"./models/\" + filename)\n",
    "\n",
    "        img.Release()"
   ]
  },
  {
   "cell_type": "code",
   "execution_count": 8,
   "metadata": {},
   "outputs": [],
   "source": [
    "cam.StopGrabbing()\n",
    "cam.Close()"
   ]
  },
  {
   "cell_type": "code",
   "execution_count": null,
   "metadata": {},
   "outputs": [],
   "source": []
  }
 ],
 "metadata": {
  "kernelspec": {
   "display_name": "base",
   "language": "python",
   "name": "python3"
  },
  "language_info": {
   "codemirror_mode": {
    "name": "ipython",
    "version": 3
   },
   "file_extension": ".py",
   "mimetype": "text/x-python",
   "name": "python",
   "nbconvert_exporter": "python",
   "pygments_lexer": "ipython3",
   "version": "3.10.10"
  },
  "orig_nbformat": 4
 },
 "nbformat": 4,
 "nbformat_minor": 2
}
